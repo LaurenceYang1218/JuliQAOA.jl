{
 "cells": [
  {
   "cell_type": "markdown",
   "metadata": {},
   "source": [
    "# Finding Good Average MaxCut Angles\n",
    "\n",
    "In this example we find a set of angles for MaxCut which, on average, work well for [$G(n,p)$](https://en.wikipedia.org/wiki/Erdős–Rényi_model) graphs with the transverse field mixer. We then compare our angles against the \"median angles\" found by [Lotshaw et al.](https://arxiv.org/pdf/2102.06813.pdf)."
   ]
  },
  {
   "cell_type": "code",
   "execution_count": 1,
   "metadata": {},
   "outputs": [],
   "source": [
    "using JuliQAOA, Graphs\n",
    "using Optim, LineSearches\n",
    "using Statistics\n",
    "using Random\n",
    "\n",
    "Random.seed!(1);"
   ]
  },
  {
   "cell_type": "markdown",
   "metadata": {},
   "source": [
    "Our approach will be to find a single set of angles which maximize performance over a collection of 50 randomly generated graphs."
   ]
  },
  {
   "cell_type": "code",
   "execution_count": 2,
   "metadata": {},
   "outputs": [
    {
     "data": {
      "text/plain": [
       "X mixer on 7-qubit states"
      ]
     },
     "metadata": {},
     "output_type": "display_data"
    }
   ],
   "source": [
    "n = 7\n",
    "num_graphs = 50\n",
    "\n",
    "# generate graphs and calculate the MaxCut objective values across them all\n",
    "graphs = [erdos_renyi(n, 0.5) for _ in 1:num_graphs]\n",
    "obj_vals = [[maxcut(g,x) for x in states(n)] for g in graphs]\n",
    "\n",
    "# generate transverse field mixer\n",
    "mixer = mixer_x(n)"
   ]
  },
  {
   "cell_type": "markdown",
   "metadata": {},
   "source": [
    "We'll measure performance with the approximation ratio $\\langle H_C\\rangle/\\text{max}(H_C)$, and we'll add an overall minus sign since `Optim.jl` only does minimization."
   ]
  },
  {
   "cell_type": "code",
   "execution_count": 3,
   "metadata": {},
   "outputs": [
    {
     "data": {
      "text/plain": [
       "f (generic function with 1 method)"
      ]
     },
     "metadata": {},
     "output_type": "display_data"
    }
   ],
   "source": [
    "# the function we are trying to minimize\n",
    "f(x) = -sum([exp_value(x, mixer, vals)/maximum(vals) for vals in obj_vals])"
   ]
  },
  {
   "cell_type": "markdown",
   "metadata": {},
   "source": [
    "We'll also need to define the gradient function. Optim wants gradients to come in the form `g!(G,x)`, where `g!` overwrites `G` with the gradient at `x`. And we'll add the `flip_sign` flag to account for minus sign in `f(x)`."
   ]
  },
  {
   "cell_type": "code",
   "execution_count": 4,
   "metadata": {},
   "outputs": [
    {
     "data": {
      "text/plain": [
       "g! (generic function with 1 method)"
      ]
     },
     "metadata": {},
     "output_type": "display_data"
    }
   ],
   "source": [
    "function g!(G, x)\n",
    "    G .= 0\n",
    "    tmpG = similar(G)\n",
    "    for vals in obj_vals\n",
    "        # calculate the gradient for the specific graph and store in tmpG\n",
    "        grad!(tmpG, x, mixer, vals; flip_sign=true) \n",
    "        # add the results to the overall gradient G\n",
    "        # remembering to divide by the maximum value to get the approximation ratio\n",
    "        G .+= tmpG/maximum(vals)\n",
    "    end\n",
    "end"
   ]
  },
  {
   "cell_type": "markdown",
   "metadata": {},
   "source": [
    "Let's explore the angle space for 3 rounds by sampling 50 random points and doing gradient\n",
    "descent (via BFGS)."
   ]
  },
  {
   "cell_type": "code",
   "execution_count": 5,
   "metadata": {},
   "outputs": [],
   "source": [
    "p = 3\n",
    "num_samples = 50\n",
    "\n",
    "# store the BFGS results here\n",
    "minimizers = []\n",
    "\n",
    "for _ in 1:num_samples\n",
    "    # start from a random point\n",
    "    x0 = rand(2*p) .* 2π\n",
    "    # we have found the `BackTracking` line search to perform best with QAOA\n",
    "    minimizer = optimize(f, g!, x0, BFGS(linesearch=LineSearches.BackTracking()))\n",
    "    push!(minimizers, minimizer)\n",
    "end"
   ]
  },
  {
   "cell_type": "code",
   "execution_count": 6,
   "metadata": {},
   "outputs": [
    {
     "data": {
      "text/plain": [
       "6-element Vector{Float64}:\n",
       " 4.2154124728477225\n",
       " 5.92621819577634\n",
       " 2.940016043629731\n",
       " 5.905304824510141\n",
       " 5.560921620672296\n",
       " 5.414013418520338"
      ]
     },
     "metadata": {},
     "output_type": "display_data"
    }
   ],
   "source": [
    "# sort the minimizers by their minimum value\n",
    "sort!(minimizers; by=x->minimum(x))\n",
    "\n",
    "# get the angles for the best minimizer\n",
    "mean_angles = Optim.minimizer(minimizers[1])\n",
    "\n",
    "# clean up the angles so they look nicer\n",
    "# (they could be cleaned up further by exploiting symmetries of MaxCut, which we don't do here)\n",
    "mean_angles = clean_angles(mean_angles, mixer, obj_vals[1])"
   ]
  },
  {
   "cell_type": "markdown",
   "metadata": {},
   "source": [
    "Let's compare against the \"median angles\" for this case found by Lotshaw et. al. across 50 new random graphs."
   ]
  },
  {
   "cell_type": "code",
   "execution_count": 7,
   "metadata": {},
   "outputs": [
    {
     "name": "stdout",
     "output_type": "stream",
     "text": [
      "Lotshaw et. al. mean approximation ratio: 0.9087199002196616\n",
      "Our mean approximation ratio: 0.9095472914331952\n"
     ]
    }
   ],
   "source": [
    "# taken from table VIII in 2102.06813\n",
    "lotshaw_angles = [-0.15244, -0.10299, -0.06517, -0.12641, -0.24101, -0.27459] .* π\n",
    "\n",
    "new_graphs = [erdos_renyi(n, 0.5) for _ in 1:num_graphs]\n",
    "new_obj_vals = [[maxcut(g,x) for x in states(n)] for g in new_graphs]\n",
    "\n",
    "lotshaw_approx_ratio = mean([exp_value(lotshaw_angles, mixer, vals)/maximum(vals) for vals in new_obj_vals])\n",
    "our_approx_ratio = mean([exp_value(mean_angles, mixer, vals)/maximum(vals) for vals in new_obj_vals])\n",
    "\n",
    "println(\"Lotshaw et. al. mean approximation ratio: $(lotshaw_approx_ratio)\")\n",
    "println(\"Our mean approximation ratio: $(our_approx_ratio)\")"
   ]
  }
 ],
 "metadata": {
  "kernelspec": {
   "display_name": "Julia 1.9.0",
   "language": "julia",
   "name": "julia-1.9"
  },
  "language_info": {
   "file_extension": ".jl",
   "mimetype": "application/julia",
   "name": "julia",
   "version": "1.9.0"
  }
 },
 "nbformat": 4,
 "nbformat_minor": 2
}
